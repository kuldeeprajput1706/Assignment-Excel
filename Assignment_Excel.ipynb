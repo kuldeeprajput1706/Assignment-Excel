{
  "nbformat": 4,
  "nbformat_minor": 0,
  "metadata": {
    "colab": {
      "provenance": []
    },
    "kernelspec": {
      "name": "python3",
      "display_name": "Python 3"
    },
    "language_info": {
      "name": "python"
    }
  },
  "cells": [
    {
      "cell_type": "code",
      "execution_count": null,
      "metadata": {
        "id": "hFrAeyO2hugP"
      },
      "outputs": [],
      "source": []
    },
    {
      "cell_type": "markdown",
      "source": [
        "Question 1: What is the difference between 'Paste' and 'Paste Special' in Excel? Briefly explain with examples."
      ],
      "metadata": {
        "id": "As7-WIxIhva-"
      }
    },
    {
      "cell_type": "markdown",
      "source": [
        "Difference between Paste and Paste Special in Excel\n",
        "\n",
        "1. Paste\n",
        "\n",
        "The Paste command inserts everything you copied (values, formulas, formatting, comments, etc.) into the destination cell(s).\n",
        "\n",
        "Shortcut: Ctrl + V\n",
        "\n",
        "Example:\n",
        "If cell A1 contains the formula =5+3 (which shows result 8), copying and pasting it into B1 will paste the formula =5+3 along with formatting.\n",
        "2. Paste Special\n",
        "\n",
        "Paste Special allows you to choose what part of the copied data you want to paste (only values, only formulas, only formatting, or transpose rows and columns).\n",
        "\n",
        "Shortcut: Ctrl + Alt + V\n",
        "\n",
        "Examples:\n",
        "\n",
        "Values Only: Copy A1 (=5+3 → 8) and use Paste Special → Values in B1. It will paste only 8, not the formula.\n",
        "\n",
        "Formats Only: Copy A1 (with bold and yellow background) and use Paste Special → Formats in B1. Only formatting will be pasted, not the content.\n",
        "\n",
        "Transpose: Copy a row 1, 2, 3 and use Paste Special → Transpose. It will paste the data as a column instead of a row."
      ],
      "metadata": {
        "id": "5hLcl-qKhxaN"
      }
    },
    {
      "cell_type": "markdown",
      "source": [
        "Question 2: Describe the functions and usefulness of 'Freeze Panes' and 'Split Panes' in Excel.\n",
        "\n"
      ],
      "metadata": {
        "id": "ChRCMCEjh8mK"
      }
    },
    {
      "cell_type": "markdown",
      "source": [
        "Freeze Panes vs Split Panes in Excel\n",
        "\n",
        "1. Freeze Panes\n",
        "\n",
        "Function: Keeps specific rows or columns visible while you scroll through the rest of the worksheet.\n",
        "\n",
        "Usefulness: Helpful when working with large data sets where headings (like column titles or row labels) need to stay visible.\n",
        "\n",
        "Example:\n",
        "If the first row has column headings (Name, Age, Marks), applying Freeze Panes → Freeze Top Row will keep the headings visible even when you scroll down.\n",
        "\n",
        "2. Split Panes\n",
        "\n",
        "Function: Divides the Excel window into two or four separate sections, each with its own scroll bar.\n",
        "\n",
        "Usefulness: Allows you to view and compare different parts of a worksheet at the same time.\n",
        "\n",
        "Example:\n",
        "If you have a long sheet, you can split the window into two horizontal sections: the top section can display headings, while the bottom section shows data further down."
      ],
      "metadata": {
        "id": "gEUpn7zRiS0S"
      }
    },
    {
      "cell_type": "markdown",
      "source": [
        "Question 3: Explain the difference between inserting a new row and inserting a new column in Excel. Can you insert multiple rows or columns at once?"
      ],
      "metadata": {
        "id": "D69XIlociUsh"
      }
    },
    {
      "cell_type": "markdown",
      "source": [
        "Difference between Inserting a New Row and Inserting a New Column in Excel\n",
        "\n",
        "1. Inserting a New Row\n",
        "\n",
        "A new row is added horizontally across the worksheet.\n",
        "\n",
        "The new row appears above the selected row.\n",
        "\n",
        "Example: If you select row 5 and insert a new row, the new blank row will become row 5, and the old row 5 will shift down to row 6.\n",
        "\n",
        "2. Inserting a New Column\n",
        "\n",
        "A new column is added vertically in the worksheet.\n",
        "\n",
        "The new column appears to the left of the selected column.\n",
        "\n",
        "Example: If you select column C and insert a new column, the new blank column will become column C, and the old column C will shift to column D.\n",
        "\n",
        "3. Inserting Multiple Rows or Columns\n",
        "\n",
        "Yes, you can insert multiple rows or columns at once.\n",
        "\n",
        "To do this, select the number of rows or columns you want to add, then right-click and choose Insert.\n",
        "\n",
        "Example: Select 3 rows and choose Insert → 3 new rows will be added above the selection."
      ],
      "metadata": {
        "id": "rZALHpiaieV0"
      }
    },
    {
      "cell_type": "markdown",
      "source": [
        "Question 4: What are logical functions in Excel? Provide examples of at least two logical functions and their applications."
      ],
      "metadata": {
        "id": "jl2eB0_HiiYD"
      }
    },
    {
      "cell_type": "markdown",
      "source": [
        "Logical Functions in Excel\n",
        "\n",
        "Definition:\n",
        "Logical functions in Excel are used to test conditions and return a result based on whether the condition is TRUE or FALSE. These functions are very useful for decision-making and data analysis.\n",
        "\n",
        "Examples of Logical Functions:\n",
        "\n",
        "1. IF Function\n",
        "\n",
        "Syntax: =IF(condition, value_if_true, value_if_false)\n",
        "\n",
        "Use: Checks a condition and returns one value if it is true, and another value if it is false.\n",
        "\n",
        "Example:\n",
        "=IF(A1>=40, \"Pass\", \"Fail\")\n",
        "This formula will return \"Pass\" if the value in A1 is greater than or equal to 40, otherwise it will return \"Fail\".\n",
        "\n",
        "2. AND Function\n",
        "\n",
        "Syntax: =AND(condition1, condition2, …)\n",
        "\n",
        "Use: Returns TRUE only if all conditions are true.\n",
        "\n",
        "Example:\n",
        "=AND(A1>=40, B1>=40)\n",
        "This formula will return TRUE if both A1 and B1 are greater than or equal to 40, otherwise it will return FALSE.\n",
        "\n",
        "3. OR Function (additional example, if required)\n",
        "\n",
        "Syntax: =OR(condition1, condition2, …)\n",
        "\n",
        "Use: Returns TRUE if any one of the conditions is true.\n",
        "\n",
        "Example:\n",
        "=OR(A1>=40, B1>=40)\n",
        "This will return TRUE if either A1 or B1 is greater than or equal to 40."
      ],
      "metadata": {
        "id": "9oJqK7LiiopI"
      }
    },
    {
      "cell_type": "markdown",
      "source": [
        "Question 5: Discuss the purpose of 'XLOOKUP' and how it differs from the traditional 'VLOOKUP' function."
      ],
      "metadata": {
        "id": "pUpc75fOi0hU"
      }
    },
    {
      "cell_type": "markdown",
      "source": [
        "XLOOKUP vs VLOOKUP in Excel\n",
        "\n",
        "1. Purpose of XLOOKUP\n",
        "The XLOOKUP function is used to search for a value in a range or table and return a corresponding value from another column or row. It is more advanced and flexible than the traditional lookup functions like VLOOKUP and HLOOKUP. XLOOKUP can search both vertically and horizontally, and it removes many of the limitations of VLOOKUP.\n",
        "\n",
        "2. Difference between XLOOKUP and VLOOKUP\n",
        "VLOOKUP can only search vertically in a column and return values from a column to the right of the lookup column. XLOOKUP, on the other hand, can search both vertically and horizontally, and it can return values from any column, whether it is to the left or right. In VLOOKUP, exact match and approximate match require special arguments, while in XLOOKUP, exact match is the default and it is easier to use. Also, VLOOKUP shows an error (#N/A) if a value is not found, while XLOOKUP allows you to set a custom message such as \"Not Found\".\n",
        "\n",
        "3. Examples\n",
        "\n",
        "VLOOKUP Example:\n",
        "=VLOOKUP(101, A2:C10, 3, FALSE)\n",
        "This searches for student ID 101 in column A and returns the value from the third column (C). The limitation is that the lookup column must always be the leftmost.\n",
        "\n",
        "XLOOKUP Example:\n",
        "=XLOOKUP(101, A2:A10, C2:C10, \"Not Found\")\n",
        "This searches for student ID 101 in column A and returns the corresponding value from column C. If the ID is not found, it will display \"Not Found\"."
      ],
      "metadata": {
        "id": "uB23k1iDjB4r"
      }
    },
    {
      "cell_type": "markdown",
      "source": [
        "Question 6: Create a worksheet titled 'Employee Data' with columns: Name, Age, Department. Add 5 rows of data. Format as follows: ● Bold and center-align the header row ● Apply a fill color ● Auto-fit column width"
      ],
      "metadata": {
        "id": "pAD6ZH6IjHUa"
      }
    },
    {
      "cell_type": "markdown",
      "source": [
        "Steps:\n",
        "\n",
        "Open Excel and create a new worksheet.\n",
        "\n",
        "In Row 1, type the column headers: Name, Age, Department.\n",
        "\n",
        "Enter 5 rows of sample employee data, for example:\n",
        "Select the header row (Row 1). Apply Bold and Center Align.\n",
        "\n",
        "Apply a Fill Color (e.g., light blue) to the header row.\n",
        "\n",
        "Use Auto-fit Column Width by selecting all columns and double-clicking between the column headers, or using Home → Format → AutoFit Column Width."
      ],
      "metadata": {
        "id": "6IJaeh9RmLYw"
      }
    },
    {
      "cell_type": "markdown",
      "source": [
        "![Screenshot 2025-10-02 162909.png](data:image/png;base64,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)"
      ],
      "metadata": {
        "id": "f2QgsG0dlIF9"
      }
    },
    {
      "cell_type": "markdown",
      "source": [
        "Question 7: Demonstrate how to insert and delete multiple rows and columns in Excel."
      ],
      "metadata": {
        "id": "hP-nxoEqlbya"
      }
    },
    {
      "cell_type": "markdown",
      "source": [
        "A) Inserting Multiple Rows\n",
        "\n",
        "Step 1: Select the number of rows where you want to insert new rows.\n",
        "\n",
        "Example: To insert 3 new rows above row 5, select rows 5, 6, and 7.\n",
        "\n",
        "Step 2: Right-click on the selected rows → click Insert.\n",
        "\n",
        "Excel will insert 3 new blank rows above row 5.\n",
        "\n",
        "Before Insertion Screenshot: Show rows 4–8 as they currently appear.\n",
        "After Insertion Screenshot: Show the same area with new blank rows inserted.\n",
        "\n",
        "B) Deleting Multiple Rows\n",
        "\n",
        "Step 1: Select the rows you want to delete.\n",
        "\n",
        "Example: Delete rows 3, 4, and 5 → click and drag to select them.\n",
        "\n",
        "Step 2: Right-click → choose Delete.\n",
        "\n",
        "Before Deletion Screenshot: Show the data in rows 2–6.\n",
        "After Deletion Screenshot: Show that the selected rows are removed, and remaining rows shift up.\n",
        "\n",
        "C) Inserting Multiple Columns\n",
        "\n",
        "Step 1: Select the number of columns where you want new columns.\n",
        "\n",
        "Example: To insert 2 new columns before column C, select columns C and D.\n",
        "\n",
        "Step 2: Right-click → click Insert.\n",
        "\n",
        "Excel inserts 2 blank columns before column C.\n",
        "\n",
        "Before Insertion Screenshot: Show columns B–E.\n",
        "After Insertion Screenshot: Show the same area with new columns inserted.\n",
        "\n",
        "D) Deleting Multiple Columns\n",
        "\n",
        "Step 1: Select the columns to delete.\n",
        "\n",
        "Example: Delete columns D and E → select them.\n",
        "\n",
        "Step 2: Right-click → choose Delete.\n",
        "\n",
        "Before Deletion Screenshot: Show columns C–F with data.\n",
        "After Deletion Screenshot: Show that columns D and E are removed."
      ],
      "metadata": {
        "id": "azeyThXMllxy"
      }
    },
    {
      "cell_type": "markdown",
      "source": [
        "![Screenshot 2025-10-02 165355.png](data:image/png;base64,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)"
      ],
      "metadata": {
        "id": "2avWL_Bwqj5u"
      }
    },
    {
      "cell_type": "markdown",
      "source": [
        "![Screenshot 2025-10-02 165440.png](data:image/png;base64,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)"
      ],
      "metadata": {
        "id": "S9boMwE2qmJl"
      }
    },
    {
      "cell_type": "markdown",
      "source": [
        "Question 8: Use Excel's 'Find and Replace' feature to update department names in a sample table."
      ],
      "metadata": {
        "id": "RLJLF40EmJzN"
      }
    },
    {
      "cell_type": "markdown",
      "source": [
        "Task: Replace “Sales” with “Marketing” using Find and Replace.\n",
        "Steps in Excel:\n",
        "\n",
        "Select the Department column (or entire sheet if needed).\n",
        "\n",
        "Press Ctrl + H (shortcut for Find & Replace).\n",
        "\n",
        "In the Find what box, type: Sales.\n",
        "\n",
        "In the Replace with box, type: Marketing.\n",
        "\n",
        "Click Replace All.\n",
        "\n",
        "Excel will update all occurrences of Sales → Marketing."
      ],
      "metadata": {
        "id": "h6xbpSPTiNT2"
      }
    },
    {
      "cell_type": "markdown",
      "source": [
        "![Screenshot 2025-10-02 163941.png](data:image/png;base64,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)"
      ],
      "metadata": {
        "id": "OS-YlDICnM3b"
      }
    },
    {
      "cell_type": "markdown",
      "source": [
        "![Screenshot 2025-10-02 164041.png](data:image/png;base64,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)"
      ],
      "metadata": {
        "id": "S07SsSxxnkVC"
      }
    },
    {
      "cell_type": "markdown",
      "source": [
        "Question 9: Create a small numerical dataset and apply the following functions: ● AVERAGE ● MAX ● MIN"
      ],
      "metadata": {
        "id": "XWQFuItjnnfx"
      }
    },
    {
      "cell_type": "markdown",
      "source": [
        "![Screenshot 2025-10-02 164342.png](data:image/png;base64,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)"
      ],
      "metadata": {
        "id": "cs77CKCCoN2j"
      }
    },
    {
      "cell_type": "markdown",
      "source": [
        "Question 10: You're working with a dataset that contains missing values. As a Data Scientist, explain how you'd detect and handle missing data using Excel. Mention tools like: ● Go To Special ● ISBLANK ● COUNTBLANK"
      ],
      "metadata": {
        "id": "OxR2icaDoQej"
      }
    },
    {
      "cell_type": "markdown",
      "source": [
        "1. Detecting Missing Data\n",
        "(a) Go To Special\n",
        "\n",
        "Select the dataset.\n",
        "\n",
        "Press F5 → Go To → Special → Blanks → OK.\n",
        "\n",
        "Excel highlights all blank cells so you can see where data is missing.\n",
        "\n",
        "(b) ISBLANK Function\n",
        "\n",
        "Formula:\n",
        "\n",
        "=ISBLANK(A2)\n",
        "\n",
        "\n",
        "Returns TRUE if cell A2 is empty, otherwise FALSE.\n",
        "\n",
        "Useful when checking if specific cells have missing values.\n",
        "\n",
        "(c) COUNTBLANK Function\n",
        "\n",
        "Formula:\n",
        "\n",
        "=COUNTBLANK(A2:A10)\n",
        "\n",
        "\n",
        "Counts the number of blank (empty) cells in a given range.\n",
        "\n",
        "Helps measure how much missing data exists in the dataset.\n",
        "\n",
        "2. Handling Missing Data\n",
        "\n",
        "Once blanks are detected, I can handle them in different ways:\n",
        "\n",
        "Delete rows/columns with too many missing values (if not useful).\n",
        "\n",
        "Fill missing values with:\n",
        "\n",
        "The average/mean of the column (e.g., marks or salaries).\n",
        "\n",
        "The previous/next available value using Fill Down/Fill Series.\n",
        "\n",
        "A fixed placeholder like \"NA\" for categorical data.\n",
        "\n",
        "3. Example Table\n",
        "Student\tMarks\n",
        "Asha\t78\n",
        "Ramesh\n",
        "Sneha\t89\n",
        "Vijay\n",
        "Meera\t92\n",
        "\n",
        "COUNTBLANK(B2:B6) → Result = 2 (two missing values).\n",
        "\n",
        "ISBLANK(B3) → TRUE (since Ramesh’s mark is missing).\n",
        "\n",
        "Using Go To Special → Blanks, both missing cells (B3, B5) will be highlighted."
      ],
      "metadata": {
        "id": "FZy8MmfLoaRz"
      }
    },
    {
      "cell_type": "markdown",
      "source": [
        "![Screenshot 2025-10-02 165240.png](data:image/png;base64,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)"
      ],
      "metadata": {
        "id": "3IgGyb3lo2nJ"
      }
    },
    {
      "cell_type": "markdown",
      "source": [],
      "metadata": {
        "id": "wcK-czIbqUlo"
      }
    }
  ]
}